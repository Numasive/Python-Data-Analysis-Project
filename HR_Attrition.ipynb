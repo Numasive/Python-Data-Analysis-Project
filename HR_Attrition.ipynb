{
 "cells": [
  {
   "cell_type": "markdown",
   "metadata": {
    "id": "Ysp_JpphGa2g"
   },
   "source": [
    "Changing the Working Directory"
   ]
  },
  {
   "cell_type": "code",
   "execution_count": 10,
   "metadata": {
    "id": "U48MRM81Ga2h"
   },
   "outputs": [],
   "source": [
    "import os \n",
    "os.chdir(r\"C:\\~\")\n",
    "\n"
   ]
  },
  {
   "cell_type": "markdown",
   "metadata": {
    "id": "ptQS746yGa2i"
   },
   "source": [
    "1. Importing all the necessary libraries (Numpy and Pandas)"
   ]
  },
  {
   "cell_type": "code",
   "execution_count": 12,
   "metadata": {
    "ExecuteTime": {
     "end_time": "2020-06-17T09:01:58.211156Z",
     "start_time": "2020-06-17T09:01:57.581826Z"
    },
    "id": "rfwYuUSuGa2j"
   },
   "outputs": [],
   "source": [
    "import numpy as np\n",
    "import pandas as pd"
   ]
  },
  {
   "cell_type": "markdown",
   "metadata": {
    "id": "y8ZK0uL8Ga2j"
   },
   "source": [
    "2. Importing both csv files (and name Company_Data as \"company\" and Personal_Data as \"personal\" )"
   ]
  },
  {
   "cell_type": "markdown",
   "metadata": {
    "id": "Sr9uk5b3Ga2k"
   },
   "source": [
    "Loading the Data file into Python DataFrame using pandas read_csv method"
   ]
  },
  {
   "cell_type": "code",
   "execution_count": 17,
   "metadata": {
    "ExecuteTime": {
     "end_time": "2020-06-17T09:02:00.636568Z",
     "start_time": "2020-06-17T09:01:59.854772Z"
    },
    "id": "V839xYgmGa2k"
   },
   "outputs": [],
   "source": [
    "company = pd.read_csv(\"Company_Data.csv\")\n",
    "personal = pd.read_csv(\"Personal_Data.csv\")"
   ]
  },
  {
   "cell_type": "markdown",
   "metadata": {
    "id": "47i4lx0YGa2l"
   },
   "source": [
    "3. Top 10 rows of both the datasets"
   ]
  },
  {
   "cell_type": "markdown",
   "metadata": {
    "id": "8UKkS8lfGa2l"
   },
   "source": [
    "Hint:Head function is used to view the top records. The number of records to be viewed, needs to be  given in the parenthesis. Default value is 5."
   ]
  },
  {
   "cell_type": "code",
   "execution_count": 19,
   "metadata": {
    "ExecuteTime": {
     "end_time": "2020-06-17T09:02:00.721300Z",
     "start_time": "2020-06-17T09:02:00.636568Z"
    },
    "id": "xu6Kv_lWGa2m"
   },
   "outputs": [
    {
     "data": {
      "text/html": [
       "<div>\n",
       "<style scoped>\n",
       "    .dataframe tbody tr th:only-of-type {\n",
       "        vertical-align: middle;\n",
       "    }\n",
       "\n",
       "    .dataframe tbody tr th {\n",
       "        vertical-align: top;\n",
       "    }\n",
       "\n",
       "    .dataframe thead th {\n",
       "        text-align: right;\n",
       "    }\n",
       "</style>\n",
       "<table border=\"1\" class=\"dataframe\">\n",
       "  <thead>\n",
       "    <tr style=\"text-align: right;\">\n",
       "      <th></th>\n",
       "      <th>EmpID</th>\n",
       "      <th>BusinessTravel</th>\n",
       "      <th>Department</th>\n",
       "      <th>HourlyRate</th>\n",
       "      <th>JobLevel</th>\n",
       "      <th>JobRole</th>\n",
       "      <th>JobSatisfaction</th>\n",
       "      <th>MonthlyRate</th>\n",
       "      <th>NumCompaniesWorked</th>\n",
       "      <th>OverTime</th>\n",
       "      <th>PercentSalaryHike</th>\n",
       "      <th>TotalWorkingYears</th>\n",
       "      <th>WorkLifeBalance</th>\n",
       "      <th>YearsAtCompany</th>\n",
       "      <th>YearsInCurrentRole</th>\n",
       "      <th>YearsSinceLastPromotion</th>\n",
       "      <th>YearsWithCurrManager</th>\n",
       "      <th>Attrition</th>\n",
       "    </tr>\n",
       "  </thead>\n",
       "  <tbody>\n",
       "    <tr>\n",
       "      <th>0</th>\n",
       "      <td>2102210</td>\n",
       "      <td>Travel_Rarely</td>\n",
       "      <td>Sales</td>\n",
       "      <td>94</td>\n",
       "      <td>2.0</td>\n",
       "      <td>Sales Executive</td>\n",
       "      <td>4</td>\n",
       "      <td>19479</td>\n",
       "      <td>8</td>\n",
       "      <td>Yes</td>\n",
       "      <td>11</td>\n",
       "      <td>8</td>\n",
       "      <td>1.0</td>\n",
       "      <td>6</td>\n",
       "      <td>4</td>\n",
       "      <td>0</td>\n",
       "      <td>5</td>\n",
       "      <td>Yes</td>\n",
       "    </tr>\n",
       "    <tr>\n",
       "      <th>1</th>\n",
       "      <td>2102211</td>\n",
       "      <td>Travel_Frequently</td>\n",
       "      <td>Research &amp; Development</td>\n",
       "      <td>61</td>\n",
       "      <td>2.0</td>\n",
       "      <td>Research Scientist</td>\n",
       "      <td>2</td>\n",
       "      <td>24907</td>\n",
       "      <td>1</td>\n",
       "      <td>No</td>\n",
       "      <td>23</td>\n",
       "      <td>10</td>\n",
       "      <td>3.0</td>\n",
       "      <td>10</td>\n",
       "      <td>7</td>\n",
       "      <td>1</td>\n",
       "      <td>7</td>\n",
       "      <td>No</td>\n",
       "    </tr>\n",
       "    <tr>\n",
       "      <th>2</th>\n",
       "      <td>2102212</td>\n",
       "      <td>Travel_Rarely</td>\n",
       "      <td>Research &amp; Development</td>\n",
       "      <td>92</td>\n",
       "      <td>1.0</td>\n",
       "      <td>Laboratory Technician</td>\n",
       "      <td>3</td>\n",
       "      <td>2396</td>\n",
       "      <td>6</td>\n",
       "      <td>Yes</td>\n",
       "      <td>15</td>\n",
       "      <td>7</td>\n",
       "      <td>3.0</td>\n",
       "      <td>0</td>\n",
       "      <td>0</td>\n",
       "      <td>0</td>\n",
       "      <td>0</td>\n",
       "      <td>Yes</td>\n",
       "    </tr>\n",
       "    <tr>\n",
       "      <th>3</th>\n",
       "      <td>2102213</td>\n",
       "      <td>Travel_Frequently</td>\n",
       "      <td>Research &amp; Development</td>\n",
       "      <td>56</td>\n",
       "      <td>1.0</td>\n",
       "      <td>Research Scientist</td>\n",
       "      <td>3</td>\n",
       "      <td>23159</td>\n",
       "      <td>1</td>\n",
       "      <td>Yes</td>\n",
       "      <td>11</td>\n",
       "      <td>8</td>\n",
       "      <td>3.0</td>\n",
       "      <td>8</td>\n",
       "      <td>7</td>\n",
       "      <td>3</td>\n",
       "      <td>0</td>\n",
       "      <td>No</td>\n",
       "    </tr>\n",
       "    <tr>\n",
       "      <th>4</th>\n",
       "      <td>2102214</td>\n",
       "      <td>Travel_Rarely</td>\n",
       "      <td>Research &amp; Development</td>\n",
       "      <td>40</td>\n",
       "      <td>1.0</td>\n",
       "      <td>Laboratory Technician</td>\n",
       "      <td>2</td>\n",
       "      <td>16632</td>\n",
       "      <td>9</td>\n",
       "      <td>No</td>\n",
       "      <td>12</td>\n",
       "      <td>6</td>\n",
       "      <td>3.0</td>\n",
       "      <td>2</td>\n",
       "      <td>2</td>\n",
       "      <td>2</td>\n",
       "      <td>2</td>\n",
       "      <td>No</td>\n",
       "    </tr>\n",
       "    <tr>\n",
       "      <th>5</th>\n",
       "      <td>2102215</td>\n",
       "      <td>Travel_Frequently</td>\n",
       "      <td>Research &amp; Development</td>\n",
       "      <td>79</td>\n",
       "      <td>1.0</td>\n",
       "      <td>Laboratory Technician</td>\n",
       "      <td>4</td>\n",
       "      <td>11864</td>\n",
       "      <td>0</td>\n",
       "      <td>No</td>\n",
       "      <td>13</td>\n",
       "      <td>8</td>\n",
       "      <td>2.0</td>\n",
       "      <td>7</td>\n",
       "      <td>7</td>\n",
       "      <td>3</td>\n",
       "      <td>6</td>\n",
       "      <td>No</td>\n",
       "    </tr>\n",
       "    <tr>\n",
       "      <th>6</th>\n",
       "      <td>2102216</td>\n",
       "      <td>Travel_Rarely</td>\n",
       "      <td>Research &amp; Development</td>\n",
       "      <td>81</td>\n",
       "      <td>1.0</td>\n",
       "      <td>Laboratory Technician</td>\n",
       "      <td>1</td>\n",
       "      <td>9964</td>\n",
       "      <td>4</td>\n",
       "      <td>Yes</td>\n",
       "      <td>20</td>\n",
       "      <td>12</td>\n",
       "      <td>2.0</td>\n",
       "      <td>1</td>\n",
       "      <td>0</td>\n",
       "      <td>0</td>\n",
       "      <td>0</td>\n",
       "      <td>No</td>\n",
       "    </tr>\n",
       "    <tr>\n",
       "      <th>7</th>\n",
       "      <td>2102217</td>\n",
       "      <td>Travel_Rarely</td>\n",
       "      <td>Research &amp; Development</td>\n",
       "      <td>67</td>\n",
       "      <td>1.0</td>\n",
       "      <td>Laboratory Technician</td>\n",
       "      <td>3</td>\n",
       "      <td>13335</td>\n",
       "      <td>1</td>\n",
       "      <td>No</td>\n",
       "      <td>22</td>\n",
       "      <td>1</td>\n",
       "      <td>3.0</td>\n",
       "      <td>1</td>\n",
       "      <td>0</td>\n",
       "      <td>0</td>\n",
       "      <td>0</td>\n",
       "      <td>No</td>\n",
       "    </tr>\n",
       "    <tr>\n",
       "      <th>8</th>\n",
       "      <td>2102218</td>\n",
       "      <td>Travel_Frequently</td>\n",
       "      <td>Research &amp; Development</td>\n",
       "      <td>44</td>\n",
       "      <td>3.0</td>\n",
       "      <td>Manufacturing Director</td>\n",
       "      <td>3</td>\n",
       "      <td>8787</td>\n",
       "      <td>0</td>\n",
       "      <td>No</td>\n",
       "      <td>21</td>\n",
       "      <td>10</td>\n",
       "      <td>3.0</td>\n",
       "      <td>9</td>\n",
       "      <td>7</td>\n",
       "      <td>1</td>\n",
       "      <td>8</td>\n",
       "      <td>No</td>\n",
       "    </tr>\n",
       "    <tr>\n",
       "      <th>9</th>\n",
       "      <td>2102219</td>\n",
       "      <td>Travel_Rarely</td>\n",
       "      <td>Research &amp; Development</td>\n",
       "      <td>94</td>\n",
       "      <td>2.0</td>\n",
       "      <td>Healthcare Representative</td>\n",
       "      <td>3</td>\n",
       "      <td>16577</td>\n",
       "      <td>6</td>\n",
       "      <td>No</td>\n",
       "      <td>13</td>\n",
       "      <td>17</td>\n",
       "      <td>2.0</td>\n",
       "      <td>7</td>\n",
       "      <td>7</td>\n",
       "      <td>7</td>\n",
       "      <td>7</td>\n",
       "      <td>No</td>\n",
       "    </tr>\n",
       "  </tbody>\n",
       "</table>\n",
       "</div>"
      ],
      "text/plain": [
       "     EmpID     BusinessTravel              Department  HourlyRate  JobLevel  \\\n",
       "0  2102210      Travel_Rarely                   Sales          94       2.0   \n",
       "1  2102211  Travel_Frequently  Research & Development          61       2.0   \n",
       "2  2102212      Travel_Rarely  Research & Development          92       1.0   \n",
       "3  2102213  Travel_Frequently  Research & Development          56       1.0   \n",
       "4  2102214      Travel_Rarely  Research & Development          40       1.0   \n",
       "5  2102215  Travel_Frequently  Research & Development          79       1.0   \n",
       "6  2102216      Travel_Rarely  Research & Development          81       1.0   \n",
       "7  2102217      Travel_Rarely  Research & Development          67       1.0   \n",
       "8  2102218  Travel_Frequently  Research & Development          44       3.0   \n",
       "9  2102219      Travel_Rarely  Research & Development          94       2.0   \n",
       "\n",
       "                     JobRole  JobSatisfaction  MonthlyRate  \\\n",
       "0            Sales Executive                4        19479   \n",
       "1         Research Scientist                2        24907   \n",
       "2      Laboratory Technician                3         2396   \n",
       "3         Research Scientist                3        23159   \n",
       "4      Laboratory Technician                2        16632   \n",
       "5      Laboratory Technician                4        11864   \n",
       "6      Laboratory Technician                1         9964   \n",
       "7      Laboratory Technician                3        13335   \n",
       "8     Manufacturing Director                3         8787   \n",
       "9  Healthcare Representative                3        16577   \n",
       "\n",
       "   NumCompaniesWorked OverTime  PercentSalaryHike  TotalWorkingYears  \\\n",
       "0                   8      Yes                 11                  8   \n",
       "1                   1       No                 23                 10   \n",
       "2                   6      Yes                 15                  7   \n",
       "3                   1      Yes                 11                  8   \n",
       "4                   9       No                 12                  6   \n",
       "5                   0       No                 13                  8   \n",
       "6                   4      Yes                 20                 12   \n",
       "7                   1       No                 22                  1   \n",
       "8                   0       No                 21                 10   \n",
       "9                   6       No                 13                 17   \n",
       "\n",
       "   WorkLifeBalance  YearsAtCompany  YearsInCurrentRole  \\\n",
       "0              1.0               6                   4   \n",
       "1              3.0              10                   7   \n",
       "2              3.0               0                   0   \n",
       "3              3.0               8                   7   \n",
       "4              3.0               2                   2   \n",
       "5              2.0               7                   7   \n",
       "6              2.0               1                   0   \n",
       "7              3.0               1                   0   \n",
       "8              3.0               9                   7   \n",
       "9              2.0               7                   7   \n",
       "\n",
       "   YearsSinceLastPromotion  YearsWithCurrManager Attrition  \n",
       "0                        0                     5       Yes  \n",
       "1                        1                     7        No  \n",
       "2                        0                     0       Yes  \n",
       "3                        3                     0        No  \n",
       "4                        2                     2        No  \n",
       "5                        3                     6        No  \n",
       "6                        0                     0        No  \n",
       "7                        0                     0        No  \n",
       "8                        1                     8        No  \n",
       "9                        7                     7        No  "
      ]
     },
     "execution_count": 19,
     "metadata": {},
     "output_type": "execute_result"
    }
   ],
   "source": [
    "company.head(10)"
   ]
  },
  {
   "cell_type": "code",
   "execution_count": 20,
   "metadata": {
    "id": "XnHYpoJIGa2m"
   },
   "outputs": [
    {
     "data": {
      "text/html": [
       "<div>\n",
       "<style scoped>\n",
       "    .dataframe tbody tr th:only-of-type {\n",
       "        vertical-align: middle;\n",
       "    }\n",
       "\n",
       "    .dataframe tbody tr th {\n",
       "        vertical-align: top;\n",
       "    }\n",
       "\n",
       "    .dataframe thead th {\n",
       "        text-align: right;\n",
       "    }\n",
       "</style>\n",
       "<table border=\"1\" class=\"dataframe\">\n",
       "  <thead>\n",
       "    <tr style=\"text-align: right;\">\n",
       "      <th></th>\n",
       "      <th>EmpID</th>\n",
       "      <th>Age</th>\n",
       "      <th>EducationField</th>\n",
       "      <th>Gender</th>\n",
       "      <th>MaritalStatus</th>\n",
       "      <th>DistanceFromHome</th>\n",
       "    </tr>\n",
       "  </thead>\n",
       "  <tbody>\n",
       "    <tr>\n",
       "      <th>0</th>\n",
       "      <td>2102210</td>\n",
       "      <td>41</td>\n",
       "      <td>Life Sciences</td>\n",
       "      <td>Female</td>\n",
       "      <td>Single</td>\n",
       "      <td>1</td>\n",
       "    </tr>\n",
       "    <tr>\n",
       "      <th>1</th>\n",
       "      <td>2102211</td>\n",
       "      <td>49</td>\n",
       "      <td>Life Sciences</td>\n",
       "      <td>Male</td>\n",
       "      <td>Married</td>\n",
       "      <td>8</td>\n",
       "    </tr>\n",
       "    <tr>\n",
       "      <th>2</th>\n",
       "      <td>2102212</td>\n",
       "      <td>37</td>\n",
       "      <td>Other</td>\n",
       "      <td>Male</td>\n",
       "      <td>Single</td>\n",
       "      <td>2</td>\n",
       "    </tr>\n",
       "    <tr>\n",
       "      <th>3</th>\n",
       "      <td>2102213</td>\n",
       "      <td>33</td>\n",
       "      <td>Life Sciences</td>\n",
       "      <td>Female</td>\n",
       "      <td>Married</td>\n",
       "      <td>3</td>\n",
       "    </tr>\n",
       "    <tr>\n",
       "      <th>4</th>\n",
       "      <td>2102214</td>\n",
       "      <td>27</td>\n",
       "      <td>Medical</td>\n",
       "      <td>Male</td>\n",
       "      <td>Married</td>\n",
       "      <td>2</td>\n",
       "    </tr>\n",
       "    <tr>\n",
       "      <th>5</th>\n",
       "      <td>2102215</td>\n",
       "      <td>32</td>\n",
       "      <td>Life Sciences</td>\n",
       "      <td>Male</td>\n",
       "      <td>Single</td>\n",
       "      <td>2</td>\n",
       "    </tr>\n",
       "    <tr>\n",
       "      <th>6</th>\n",
       "      <td>2102216</td>\n",
       "      <td>59</td>\n",
       "      <td>Medical</td>\n",
       "      <td>Female</td>\n",
       "      <td>Married</td>\n",
       "      <td>3</td>\n",
       "    </tr>\n",
       "    <tr>\n",
       "      <th>7</th>\n",
       "      <td>2102217</td>\n",
       "      <td>30</td>\n",
       "      <td>Life Sciences</td>\n",
       "      <td>Male</td>\n",
       "      <td>Divorced</td>\n",
       "      <td>24</td>\n",
       "    </tr>\n",
       "    <tr>\n",
       "      <th>8</th>\n",
       "      <td>2102218</td>\n",
       "      <td>38</td>\n",
       "      <td>Life Sciences</td>\n",
       "      <td>Male</td>\n",
       "      <td>Single</td>\n",
       "      <td>23</td>\n",
       "    </tr>\n",
       "    <tr>\n",
       "      <th>9</th>\n",
       "      <td>2102219</td>\n",
       "      <td>36</td>\n",
       "      <td>Medical</td>\n",
       "      <td>Male</td>\n",
       "      <td>Married</td>\n",
       "      <td>27</td>\n",
       "    </tr>\n",
       "  </tbody>\n",
       "</table>\n",
       "</div>"
      ],
      "text/plain": [
       "     EmpID  Age EducationField  Gender MaritalStatus  DistanceFromHome\n",
       "0  2102210   41  Life Sciences  Female        Single                 1\n",
       "1  2102211   49  Life Sciences    Male       Married                 8\n",
       "2  2102212   37          Other    Male        Single                 2\n",
       "3  2102213   33  Life Sciences  Female       Married                 3\n",
       "4  2102214   27        Medical    Male       Married                 2\n",
       "5  2102215   32  Life Sciences    Male        Single                 2\n",
       "6  2102216   59        Medical  Female       Married                 3\n",
       "7  2102217   30  Life Sciences    Male      Divorced                24\n",
       "8  2102218   38  Life Sciences    Male        Single                23\n",
       "9  2102219   36        Medical    Male       Married                27"
      ]
     },
     "execution_count": 20,
     "metadata": {},
     "output_type": "execute_result"
    }
   ],
   "source": [
    "personal.head(10)"
   ]
  },
  {
   "cell_type": "markdown",
   "metadata": {
    "id": "FvLyzj7kGa2n"
   },
   "source": [
    "4. Merging both datasets and naming merged dataset as df\n",
    "\n",
    "Hint:Merge the datasets using pd.merge() command- Use how=\"outer\" and on=\"EmpID\""
   ]
  },
  {
   "cell_type": "code",
   "execution_count": 21,
   "metadata": {
    "id": "9IpGx6pNGa2n"
   },
   "outputs": [],
   "source": [
    "df=pd.merge(personal,company,how=\"outer\",on=\"EmpID\")"
   ]
  },
  {
   "cell_type": "markdown",
   "metadata": {
    "id": "PyUGSO35Ga2n"
   },
   "source": [
    " 5. Last 5 records of combined dataframe \"df\"."
   ]
  },
  {
   "cell_type": "markdown",
   "metadata": {
    "id": "HhpxlrUlGa2o"
   },
   "source": [
    "Hint:Tail function is used to view the last records. The number of records to be viewed, needs to be given in the parenthesis.Default value is 5."
   ]
  },
  {
   "cell_type": "code",
   "execution_count": 22,
   "metadata": {
    "ExecuteTime": {
     "end_time": "2020-06-17T09:02:01.036340Z",
     "start_time": "2020-06-17T09:02:00.723780Z"
    },
    "id": "rk907o44Ga2o",
    "scrolled": false
   },
   "outputs": [
    {
     "data": {
      "text/html": [
       "<div>\n",
       "<style scoped>\n",
       "    .dataframe tbody tr th:only-of-type {\n",
       "        vertical-align: middle;\n",
       "    }\n",
       "\n",
       "    .dataframe tbody tr th {\n",
       "        vertical-align: top;\n",
       "    }\n",
       "\n",
       "    .dataframe thead th {\n",
       "        text-align: right;\n",
       "    }\n",
       "</style>\n",
       "<table border=\"1\" class=\"dataframe\">\n",
       "  <thead>\n",
       "    <tr style=\"text-align: right;\">\n",
       "      <th></th>\n",
       "      <th>EmpID</th>\n",
       "      <th>Age</th>\n",
       "      <th>EducationField</th>\n",
       "      <th>Gender</th>\n",
       "      <th>MaritalStatus</th>\n",
       "      <th>DistanceFromHome</th>\n",
       "      <th>BusinessTravel</th>\n",
       "      <th>Department</th>\n",
       "      <th>HourlyRate</th>\n",
       "      <th>JobLevel</th>\n",
       "      <th>...</th>\n",
       "      <th>NumCompaniesWorked</th>\n",
       "      <th>OverTime</th>\n",
       "      <th>PercentSalaryHike</th>\n",
       "      <th>TotalWorkingYears</th>\n",
       "      <th>WorkLifeBalance</th>\n",
       "      <th>YearsAtCompany</th>\n",
       "      <th>YearsInCurrentRole</th>\n",
       "      <th>YearsSinceLastPromotion</th>\n",
       "      <th>YearsWithCurrManager</th>\n",
       "      <th>Attrition</th>\n",
       "    </tr>\n",
       "  </thead>\n",
       "  <tbody>\n",
       "    <tr>\n",
       "      <th>1465</th>\n",
       "      <td>2103675</td>\n",
       "      <td>36</td>\n",
       "      <td>Medical</td>\n",
       "      <td>Male</td>\n",
       "      <td>Married</td>\n",
       "      <td>23</td>\n",
       "      <td>Travel_Frequently</td>\n",
       "      <td>Research &amp; Development</td>\n",
       "      <td>41</td>\n",
       "      <td>2.0</td>\n",
       "      <td>...</td>\n",
       "      <td>4</td>\n",
       "      <td>No</td>\n",
       "      <td>17</td>\n",
       "      <td>17</td>\n",
       "      <td>3.0</td>\n",
       "      <td>5</td>\n",
       "      <td>2</td>\n",
       "      <td>0</td>\n",
       "      <td>3</td>\n",
       "      <td>No</td>\n",
       "    </tr>\n",
       "    <tr>\n",
       "      <th>1466</th>\n",
       "      <td>2103676</td>\n",
       "      <td>39</td>\n",
       "      <td>Medical</td>\n",
       "      <td>Male</td>\n",
       "      <td>Married</td>\n",
       "      <td>6</td>\n",
       "      <td>Travel_Rarely</td>\n",
       "      <td>Research &amp; Development</td>\n",
       "      <td>42</td>\n",
       "      <td>3.0</td>\n",
       "      <td>...</td>\n",
       "      <td>4</td>\n",
       "      <td>No</td>\n",
       "      <td>15</td>\n",
       "      <td>9</td>\n",
       "      <td>3.0</td>\n",
       "      <td>7</td>\n",
       "      <td>7</td>\n",
       "      <td>1</td>\n",
       "      <td>7</td>\n",
       "      <td>No</td>\n",
       "    </tr>\n",
       "    <tr>\n",
       "      <th>1467</th>\n",
       "      <td>2103677</td>\n",
       "      <td>27</td>\n",
       "      <td>Life Sciences</td>\n",
       "      <td>Male</td>\n",
       "      <td>Married</td>\n",
       "      <td>4</td>\n",
       "      <td>Travel_Rarely</td>\n",
       "      <td>Research &amp; Development</td>\n",
       "      <td>87</td>\n",
       "      <td>2.0</td>\n",
       "      <td>...</td>\n",
       "      <td>1</td>\n",
       "      <td>Yes</td>\n",
       "      <td>20</td>\n",
       "      <td>6</td>\n",
       "      <td>3.0</td>\n",
       "      <td>6</td>\n",
       "      <td>2</td>\n",
       "      <td>0</td>\n",
       "      <td>3</td>\n",
       "      <td>No</td>\n",
       "    </tr>\n",
       "    <tr>\n",
       "      <th>1468</th>\n",
       "      <td>2103678</td>\n",
       "      <td>49</td>\n",
       "      <td>Medical</td>\n",
       "      <td>Male</td>\n",
       "      <td>Married</td>\n",
       "      <td>2</td>\n",
       "      <td>Travel_Frequently</td>\n",
       "      <td>Sales</td>\n",
       "      <td>63</td>\n",
       "      <td>2.0</td>\n",
       "      <td>...</td>\n",
       "      <td>2</td>\n",
       "      <td>No</td>\n",
       "      <td>14</td>\n",
       "      <td>17</td>\n",
       "      <td>2.0</td>\n",
       "      <td>9</td>\n",
       "      <td>6</td>\n",
       "      <td>0</td>\n",
       "      <td>8</td>\n",
       "      <td>No</td>\n",
       "    </tr>\n",
       "    <tr>\n",
       "      <th>1469</th>\n",
       "      <td>2103679</td>\n",
       "      <td>34</td>\n",
       "      <td>Medical</td>\n",
       "      <td>Male</td>\n",
       "      <td>Married</td>\n",
       "      <td>8</td>\n",
       "      <td>Travel_Rarely</td>\n",
       "      <td>Research &amp; Development</td>\n",
       "      <td>82</td>\n",
       "      <td>2.0</td>\n",
       "      <td>...</td>\n",
       "      <td>2</td>\n",
       "      <td>No</td>\n",
       "      <td>12</td>\n",
       "      <td>6</td>\n",
       "      <td>4.0</td>\n",
       "      <td>4</td>\n",
       "      <td>3</td>\n",
       "      <td>1</td>\n",
       "      <td>2</td>\n",
       "      <td>No</td>\n",
       "    </tr>\n",
       "  </tbody>\n",
       "</table>\n",
       "<p>5 rows × 23 columns</p>\n",
       "</div>"
      ],
      "text/plain": [
       "        EmpID  Age EducationField Gender MaritalStatus  DistanceFromHome  \\\n",
       "1465  2103675   36        Medical   Male       Married                23   \n",
       "1466  2103676   39        Medical   Male       Married                 6   \n",
       "1467  2103677   27  Life Sciences   Male       Married                 4   \n",
       "1468  2103678   49        Medical   Male       Married                 2   \n",
       "1469  2103679   34        Medical   Male       Married                 8   \n",
       "\n",
       "         BusinessTravel              Department  HourlyRate  JobLevel  ...  \\\n",
       "1465  Travel_Frequently  Research & Development          41       2.0  ...   \n",
       "1466      Travel_Rarely  Research & Development          42       3.0  ...   \n",
       "1467      Travel_Rarely  Research & Development          87       2.0  ...   \n",
       "1468  Travel_Frequently                   Sales          63       2.0  ...   \n",
       "1469      Travel_Rarely  Research & Development          82       2.0  ...   \n",
       "\n",
       "     NumCompaniesWorked  OverTime  PercentSalaryHike  TotalWorkingYears  \\\n",
       "1465                  4        No                 17                 17   \n",
       "1466                  4        No                 15                  9   \n",
       "1467                  1       Yes                 20                  6   \n",
       "1468                  2        No                 14                 17   \n",
       "1469                  2        No                 12                  6   \n",
       "\n",
       "     WorkLifeBalance  YearsAtCompany  YearsInCurrentRole  \\\n",
       "1465             3.0               5                   2   \n",
       "1466             3.0               7                   7   \n",
       "1467             3.0               6                   2   \n",
       "1468             2.0               9                   6   \n",
       "1469             4.0               4                   3   \n",
       "\n",
       "      YearsSinceLastPromotion  YearsWithCurrManager  Attrition  \n",
       "1465                        0                     3         No  \n",
       "1466                        1                     7         No  \n",
       "1467                        0                     3         No  \n",
       "1468                        0                     8         No  \n",
       "1469                        1                     2         No  \n",
       "\n",
       "[5 rows x 23 columns]"
      ]
     },
     "execution_count": 22,
     "metadata": {},
     "output_type": "execute_result"
    }
   ],
   "source": [
    "df.tail(5)"
   ]
  },
  {
   "cell_type": "markdown",
   "metadata": {
    "id": "2ndE3NFlGa2o"
   },
   "source": [
    "6. Shape/dimensions of dataset."
   ]
  },
  {
   "cell_type": "markdown",
   "metadata": {
    "id": "YUMojZWYGa2p"
   },
   "source": [
    "Displaying the shape of the Data Frame in which first value gives number of Rows and second value gives number of columns."
   ]
  },
  {
   "cell_type": "code",
   "execution_count": 24,
   "metadata": {
    "ExecuteTime": {
     "end_time": "2020-06-17T09:02:01.148181Z",
     "start_time": "2020-06-17T09:02:01.038335Z"
    },
    "id": "Inft6zwGGa2p"
   },
   "outputs": [
    {
     "data": {
      "text/plain": [
       "(1470, 23)"
      ]
     },
     "execution_count": 24,
     "metadata": {},
     "output_type": "execute_result"
    }
   ],
   "source": [
    "df.shape"
   ]
  },
  {
   "cell_type": "code",
   "execution_count": 26,
   "metadata": {
    "ExecuteTime": {
     "end_time": "2020-06-17T09:02:01.272298Z",
     "start_time": "2020-06-17T09:02:01.151545Z"
    },
    "id": "WRwtVL2aGa2p"
   },
   "outputs": [
    {
     "name": "stdout",
     "output_type": "stream",
     "text": [
      "the number of rows are  1470 \n",
      "the number of columns are 23\n"
     ]
    }
   ],
   "source": [
    "print(\"the number of rows are \", df.shape[0],\"\\nthe number of columns are\", df.shape[1])"
   ]
  },
  {
   "cell_type": "markdown",
   "metadata": {
    "id": "NI6WQHHYGa2q"
   },
   "source": [
    "7. Checking for missing values. Number of null values per column."
   ]
  },
  {
   "cell_type": "code",
   "execution_count": 29,
   "metadata": {
    "ExecuteTime": {
     "end_time": "2020-06-17T09:02:01.411471Z",
     "start_time": "2020-06-17T09:02:01.276431Z"
    },
    "id": "u6Arm8DHGa2q"
   },
   "outputs": [
    {
     "data": {
      "text/plain": [
       "EmpID                      0\n",
       "Age                        0\n",
       "EducationField             0\n",
       "Gender                     0\n",
       "MaritalStatus              0\n",
       "DistanceFromHome           0\n",
       "BusinessTravel             0\n",
       "Department                 0\n",
       "HourlyRate                 0\n",
       "JobLevel                   6\n",
       "JobRole                    0\n",
       "JobSatisfaction            0\n",
       "MonthlyRate                0\n",
       "NumCompaniesWorked         0\n",
       "OverTime                   0\n",
       "PercentSalaryHike          0\n",
       "TotalWorkingYears          0\n",
       "WorkLifeBalance            4\n",
       "YearsAtCompany             0\n",
       "YearsInCurrentRole         0\n",
       "YearsSinceLastPromotion    0\n",
       "YearsWithCurrManager       0\n",
       "Attrition                  0\n",
       "dtype: int64"
      ]
     },
     "execution_count": 29,
     "metadata": {},
     "output_type": "execute_result"
    }
   ],
   "source": [
    "df.isnull().sum()"
   ]
  },
  {
   "cell_type": "markdown",
   "metadata": {
    "id": "Rb8voQwPGa2q"
   },
   "source": [
    "There are missing values present in the \"Joblevel\" and \"WorklifeBalance\" variables of the dataset."
   ]
  },
  {
   "cell_type": "markdown",
   "metadata": {
    "id": "MRa5v7BCGa2r"
   },
   "source": [
    "8.  Droping null values from \"df\" and checking if there are any missing value left after dropping null values"
   ]
  },
  {
   "cell_type": "code",
   "execution_count": 30,
   "metadata": {
    "ExecuteTime": {
     "end_time": "2020-06-17T09:02:01.522686Z",
     "start_time": "2020-06-17T09:02:01.416492Z"
    },
    "id": "qxwI1n9JGa2r"
   },
   "outputs": [],
   "source": [
    "df.dropna(inplace=True)"
   ]
  },
  {
   "cell_type": "code",
   "execution_count": 31,
   "metadata": {
    "ExecuteTime": {
     "end_time": "2020-06-17T09:02:01.648197Z",
     "start_time": "2020-06-17T09:02:01.527381Z"
    },
    "id": "z7fLG1rNGa2r"
   },
   "outputs": [
    {
     "data": {
      "text/plain": [
       "EmpID                      0\n",
       "Age                        0\n",
       "EducationField             0\n",
       "Gender                     0\n",
       "MaritalStatus              0\n",
       "DistanceFromHome           0\n",
       "BusinessTravel             0\n",
       "Department                 0\n",
       "HourlyRate                 0\n",
       "JobLevel                   0\n",
       "JobRole                    0\n",
       "JobSatisfaction            0\n",
       "MonthlyRate                0\n",
       "NumCompaniesWorked         0\n",
       "OverTime                   0\n",
       "PercentSalaryHike          0\n",
       "TotalWorkingYears          0\n",
       "WorkLifeBalance            0\n",
       "YearsAtCompany             0\n",
       "YearsInCurrentRole         0\n",
       "YearsSinceLastPromotion    0\n",
       "YearsWithCurrManager       0\n",
       "Attrition                  0\n",
       "dtype: int64"
      ]
     },
     "execution_count": 31,
     "metadata": {},
     "output_type": "execute_result"
    }
   ],
   "source": [
    "df.isnull().sum()"
   ]
  },
  {
   "cell_type": "markdown",
   "metadata": {
    "id": "ywWkFv0vGa2s"
   },
   "source": [
    "9. Checking the datatype, number of non negative values and name of each variable in the dataset."
   ]
  },
  {
   "cell_type": "code",
   "execution_count": 32,
   "metadata": {
    "id": "i0TXbqwSGa2s"
   },
   "outputs": [
    {
     "name": "stdout",
     "output_type": "stream",
     "text": [
      "<class 'pandas.core.frame.DataFrame'>\n",
      "Int64Index: 1460 entries, 0 to 1469\n",
      "Data columns (total 23 columns):\n",
      " #   Column                   Non-Null Count  Dtype  \n",
      "---  ------                   --------------  -----  \n",
      " 0   EmpID                    1460 non-null   int64  \n",
      " 1   Age                      1460 non-null   int64  \n",
      " 2   EducationField           1460 non-null   object \n",
      " 3   Gender                   1460 non-null   object \n",
      " 4   MaritalStatus            1460 non-null   object \n",
      " 5   DistanceFromHome         1460 non-null   int64  \n",
      " 6   BusinessTravel           1460 non-null   object \n",
      " 7   Department               1460 non-null   object \n",
      " 8   HourlyRate               1460 non-null   int64  \n",
      " 9   JobLevel                 1460 non-null   float64\n",
      " 10  JobRole                  1460 non-null   object \n",
      " 11  JobSatisfaction          1460 non-null   int64  \n",
      " 12  MonthlyRate              1460 non-null   int64  \n",
      " 13  NumCompaniesWorked       1460 non-null   int64  \n",
      " 14  OverTime                 1460 non-null   object \n",
      " 15  PercentSalaryHike        1460 non-null   int64  \n",
      " 16  TotalWorkingYears        1460 non-null   int64  \n",
      " 17  WorkLifeBalance          1460 non-null   float64\n",
      " 18  YearsAtCompany           1460 non-null   int64  \n",
      " 19  YearsInCurrentRole       1460 non-null   int64  \n",
      " 20  YearsSinceLastPromotion  1460 non-null   int64  \n",
      " 21  YearsWithCurrManager     1460 non-null   int64  \n",
      " 22  Attrition                1460 non-null   object \n",
      "dtypes: float64(2), int64(13), object(8)\n",
      "memory usage: 273.8+ KB\n"
     ]
    }
   ],
   "source": [
    "df.info()"
   ]
  },
  {
   "cell_type": "markdown",
   "metadata": {
    "id": "lO7D0-coGa2s"
   },
   "source": [
    "10. Checking the summary of the dataset"
   ]
  },
  {
   "cell_type": "code",
   "execution_count": 35,
   "metadata": {
    "id": "2fngYl9xGa2t"
   },
   "outputs": [
    {
     "data": {
      "text/html": [
       "<div>\n",
       "<style scoped>\n",
       "    .dataframe tbody tr th:only-of-type {\n",
       "        vertical-align: middle;\n",
       "    }\n",
       "\n",
       "    .dataframe tbody tr th {\n",
       "        vertical-align: top;\n",
       "    }\n",
       "\n",
       "    .dataframe thead th {\n",
       "        text-align: right;\n",
       "    }\n",
       "</style>\n",
       "<table border=\"1\" class=\"dataframe\">\n",
       "  <thead>\n",
       "    <tr style=\"text-align: right;\">\n",
       "      <th></th>\n",
       "      <th>count</th>\n",
       "      <th>unique</th>\n",
       "      <th>top</th>\n",
       "      <th>freq</th>\n",
       "      <th>mean</th>\n",
       "      <th>std</th>\n",
       "      <th>min</th>\n",
       "      <th>25%</th>\n",
       "      <th>50%</th>\n",
       "      <th>75%</th>\n",
       "      <th>max</th>\n",
       "    </tr>\n",
       "  </thead>\n",
       "  <tbody>\n",
       "    <tr>\n",
       "      <th>EmpID</th>\n",
       "      <td>1460.0</td>\n",
       "      <td>NaN</td>\n",
       "      <td>NaN</td>\n",
       "      <td>NaN</td>\n",
       "      <td>2102949.219178</td>\n",
       "      <td>422.080035</td>\n",
       "      <td>2102210.0</td>\n",
       "      <td>2102584.75</td>\n",
       "      <td>2102949.5</td>\n",
       "      <td>2103314.25</td>\n",
       "      <td>2103679.0</td>\n",
       "    </tr>\n",
       "    <tr>\n",
       "      <th>Age</th>\n",
       "      <td>1460.0</td>\n",
       "      <td>NaN</td>\n",
       "      <td>NaN</td>\n",
       "      <td>NaN</td>\n",
       "      <td>36.910959</td>\n",
       "      <td>9.126498</td>\n",
       "      <td>18.0</td>\n",
       "      <td>30.0</td>\n",
       "      <td>36.0</td>\n",
       "      <td>43.0</td>\n",
       "      <td>60.0</td>\n",
       "    </tr>\n",
       "    <tr>\n",
       "      <th>EducationField</th>\n",
       "      <td>1460</td>\n",
       "      <td>6</td>\n",
       "      <td>Life Sciences</td>\n",
       "      <td>600</td>\n",
       "      <td>NaN</td>\n",
       "      <td>NaN</td>\n",
       "      <td>NaN</td>\n",
       "      <td>NaN</td>\n",
       "      <td>NaN</td>\n",
       "      <td>NaN</td>\n",
       "      <td>NaN</td>\n",
       "    </tr>\n",
       "    <tr>\n",
       "      <th>Gender</th>\n",
       "      <td>1460</td>\n",
       "      <td>2</td>\n",
       "      <td>Male</td>\n",
       "      <td>875</td>\n",
       "      <td>NaN</td>\n",
       "      <td>NaN</td>\n",
       "      <td>NaN</td>\n",
       "      <td>NaN</td>\n",
       "      <td>NaN</td>\n",
       "      <td>NaN</td>\n",
       "      <td>NaN</td>\n",
       "    </tr>\n",
       "    <tr>\n",
       "      <th>MaritalStatus</th>\n",
       "      <td>1460</td>\n",
       "      <td>3</td>\n",
       "      <td>Married</td>\n",
       "      <td>671</td>\n",
       "      <td>NaN</td>\n",
       "      <td>NaN</td>\n",
       "      <td>NaN</td>\n",
       "      <td>NaN</td>\n",
       "      <td>NaN</td>\n",
       "      <td>NaN</td>\n",
       "      <td>NaN</td>\n",
       "    </tr>\n",
       "    <tr>\n",
       "      <th>DistanceFromHome</th>\n",
       "      <td>1460.0</td>\n",
       "      <td>NaN</td>\n",
       "      <td>NaN</td>\n",
       "      <td>NaN</td>\n",
       "      <td>9.172603</td>\n",
       "      <td>8.101841</td>\n",
       "      <td>1.0</td>\n",
       "      <td>2.0</td>\n",
       "      <td>7.0</td>\n",
       "      <td>14.0</td>\n",
       "      <td>29.0</td>\n",
       "    </tr>\n",
       "    <tr>\n",
       "      <th>BusinessTravel</th>\n",
       "      <td>1460</td>\n",
       "      <td>3</td>\n",
       "      <td>Travel_Rarely</td>\n",
       "      <td>1036</td>\n",
       "      <td>NaN</td>\n",
       "      <td>NaN</td>\n",
       "      <td>NaN</td>\n",
       "      <td>NaN</td>\n",
       "      <td>NaN</td>\n",
       "      <td>NaN</td>\n",
       "      <td>NaN</td>\n",
       "    </tr>\n",
       "    <tr>\n",
       "      <th>Department</th>\n",
       "      <td>1460</td>\n",
       "      <td>3</td>\n",
       "      <td>Research &amp; Development</td>\n",
       "      <td>952</td>\n",
       "      <td>NaN</td>\n",
       "      <td>NaN</td>\n",
       "      <td>NaN</td>\n",
       "      <td>NaN</td>\n",
       "      <td>NaN</td>\n",
       "      <td>NaN</td>\n",
       "      <td>NaN</td>\n",
       "    </tr>\n",
       "    <tr>\n",
       "      <th>HourlyRate</th>\n",
       "      <td>1460.0</td>\n",
       "      <td>NaN</td>\n",
       "      <td>NaN</td>\n",
       "      <td>NaN</td>\n",
       "      <td>65.914384</td>\n",
       "      <td>20.316655</td>\n",
       "      <td>30.0</td>\n",
       "      <td>48.0</td>\n",
       "      <td>66.0</td>\n",
       "      <td>84.0</td>\n",
       "      <td>100.0</td>\n",
       "    </tr>\n",
       "    <tr>\n",
       "      <th>JobLevel</th>\n",
       "      <td>1460.0</td>\n",
       "      <td>NaN</td>\n",
       "      <td>NaN</td>\n",
       "      <td>NaN</td>\n",
       "      <td>2.065753</td>\n",
       "      <td>1.107544</td>\n",
       "      <td>1.0</td>\n",
       "      <td>1.0</td>\n",
       "      <td>2.0</td>\n",
       "      <td>3.0</td>\n",
       "      <td>5.0</td>\n",
       "    </tr>\n",
       "    <tr>\n",
       "      <th>JobRole</th>\n",
       "      <td>1460</td>\n",
       "      <td>9</td>\n",
       "      <td>Sales Executive</td>\n",
       "      <td>325</td>\n",
       "      <td>NaN</td>\n",
       "      <td>NaN</td>\n",
       "      <td>NaN</td>\n",
       "      <td>NaN</td>\n",
       "      <td>NaN</td>\n",
       "      <td>NaN</td>\n",
       "      <td>NaN</td>\n",
       "    </tr>\n",
       "    <tr>\n",
       "      <th>JobSatisfaction</th>\n",
       "      <td>1460.0</td>\n",
       "      <td>NaN</td>\n",
       "      <td>NaN</td>\n",
       "      <td>NaN</td>\n",
       "      <td>2.729452</td>\n",
       "      <td>1.103963</td>\n",
       "      <td>1.0</td>\n",
       "      <td>2.0</td>\n",
       "      <td>3.0</td>\n",
       "      <td>4.0</td>\n",
       "      <td>4.0</td>\n",
       "    </tr>\n",
       "    <tr>\n",
       "      <th>MonthlyRate</th>\n",
       "      <td>1460.0</td>\n",
       "      <td>NaN</td>\n",
       "      <td>NaN</td>\n",
       "      <td>NaN</td>\n",
       "      <td>14299.465068</td>\n",
       "      <td>7123.418042</td>\n",
       "      <td>2094.0</td>\n",
       "      <td>8039.75</td>\n",
       "      <td>14225.5</td>\n",
       "      <td>20460.5</td>\n",
       "      <td>26999.0</td>\n",
       "    </tr>\n",
       "    <tr>\n",
       "      <th>NumCompaniesWorked</th>\n",
       "      <td>1460.0</td>\n",
       "      <td>NaN</td>\n",
       "      <td>NaN</td>\n",
       "      <td>NaN</td>\n",
       "      <td>2.696575</td>\n",
       "      <td>2.499154</td>\n",
       "      <td>0.0</td>\n",
       "      <td>1.0</td>\n",
       "      <td>2.0</td>\n",
       "      <td>4.0</td>\n",
       "      <td>9.0</td>\n",
       "    </tr>\n",
       "    <tr>\n",
       "      <th>OverTime</th>\n",
       "      <td>1460</td>\n",
       "      <td>2</td>\n",
       "      <td>No</td>\n",
       "      <td>1048</td>\n",
       "      <td>NaN</td>\n",
       "      <td>NaN</td>\n",
       "      <td>NaN</td>\n",
       "      <td>NaN</td>\n",
       "      <td>NaN</td>\n",
       "      <td>NaN</td>\n",
       "      <td>NaN</td>\n",
       "    </tr>\n",
       "    <tr>\n",
       "      <th>PercentSalaryHike</th>\n",
       "      <td>1460.0</td>\n",
       "      <td>NaN</td>\n",
       "      <td>NaN</td>\n",
       "      <td>NaN</td>\n",
       "      <td>15.218493</td>\n",
       "      <td>3.666092</td>\n",
       "      <td>11.0</td>\n",
       "      <td>12.0</td>\n",
       "      <td>14.0</td>\n",
       "      <td>18.0</td>\n",
       "      <td>25.0</td>\n",
       "    </tr>\n",
       "    <tr>\n",
       "      <th>TotalWorkingYears</th>\n",
       "      <td>1460.0</td>\n",
       "      <td>NaN</td>\n",
       "      <td>NaN</td>\n",
       "      <td>NaN</td>\n",
       "      <td>11.286301</td>\n",
       "      <td>7.778828</td>\n",
       "      <td>0.0</td>\n",
       "      <td>6.0</td>\n",
       "      <td>10.0</td>\n",
       "      <td>15.0</td>\n",
       "      <td>40.0</td>\n",
       "    </tr>\n",
       "    <tr>\n",
       "      <th>WorkLifeBalance</th>\n",
       "      <td>1460.0</td>\n",
       "      <td>NaN</td>\n",
       "      <td>NaN</td>\n",
       "      <td>NaN</td>\n",
       "      <td>2.762329</td>\n",
       "      <td>0.707605</td>\n",
       "      <td>1.0</td>\n",
       "      <td>2.0</td>\n",
       "      <td>3.0</td>\n",
       "      <td>3.0</td>\n",
       "      <td>4.0</td>\n",
       "    </tr>\n",
       "    <tr>\n",
       "      <th>YearsAtCompany</th>\n",
       "      <td>1460.0</td>\n",
       "      <td>NaN</td>\n",
       "      <td>NaN</td>\n",
       "      <td>NaN</td>\n",
       "      <td>7.028767</td>\n",
       "      <td>6.13939</td>\n",
       "      <td>0.0</td>\n",
       "      <td>3.0</td>\n",
       "      <td>5.0</td>\n",
       "      <td>10.0</td>\n",
       "      <td>40.0</td>\n",
       "    </tr>\n",
       "    <tr>\n",
       "      <th>YearsInCurrentRole</th>\n",
       "      <td>1460.0</td>\n",
       "      <td>NaN</td>\n",
       "      <td>NaN</td>\n",
       "      <td>NaN</td>\n",
       "      <td>4.243836</td>\n",
       "      <td>3.628309</td>\n",
       "      <td>0.0</td>\n",
       "      <td>2.0</td>\n",
       "      <td>3.0</td>\n",
       "      <td>7.0</td>\n",
       "      <td>18.0</td>\n",
       "    </tr>\n",
       "    <tr>\n",
       "      <th>YearsSinceLastPromotion</th>\n",
       "      <td>1460.0</td>\n",
       "      <td>NaN</td>\n",
       "      <td>NaN</td>\n",
       "      <td>NaN</td>\n",
       "      <td>2.197945</td>\n",
       "      <td>3.229596</td>\n",
       "      <td>0.0</td>\n",
       "      <td>0.0</td>\n",
       "      <td>1.0</td>\n",
       "      <td>3.0</td>\n",
       "      <td>15.0</td>\n",
       "    </tr>\n",
       "    <tr>\n",
       "      <th>YearsWithCurrManager</th>\n",
       "      <td>1460.0</td>\n",
       "      <td>NaN</td>\n",
       "      <td>NaN</td>\n",
       "      <td>NaN</td>\n",
       "      <td>4.133562</td>\n",
       "      <td>3.573852</td>\n",
       "      <td>0.0</td>\n",
       "      <td>2.0</td>\n",
       "      <td>3.0</td>\n",
       "      <td>7.0</td>\n",
       "      <td>17.0</td>\n",
       "    </tr>\n",
       "    <tr>\n",
       "      <th>Attrition</th>\n",
       "      <td>1460</td>\n",
       "      <td>2</td>\n",
       "      <td>No</td>\n",
       "      <td>1225</td>\n",
       "      <td>NaN</td>\n",
       "      <td>NaN</td>\n",
       "      <td>NaN</td>\n",
       "      <td>NaN</td>\n",
       "      <td>NaN</td>\n",
       "      <td>NaN</td>\n",
       "      <td>NaN</td>\n",
       "    </tr>\n",
       "  </tbody>\n",
       "</table>\n",
       "</div>"
      ],
      "text/plain": [
       "                          count unique                     top  freq  \\\n",
       "EmpID                    1460.0    NaN                     NaN   NaN   \n",
       "Age                      1460.0    NaN                     NaN   NaN   \n",
       "EducationField             1460      6           Life Sciences   600   \n",
       "Gender                     1460      2                    Male   875   \n",
       "MaritalStatus              1460      3                 Married   671   \n",
       "DistanceFromHome         1460.0    NaN                     NaN   NaN   \n",
       "BusinessTravel             1460      3           Travel_Rarely  1036   \n",
       "Department                 1460      3  Research & Development   952   \n",
       "HourlyRate               1460.0    NaN                     NaN   NaN   \n",
       "JobLevel                 1460.0    NaN                     NaN   NaN   \n",
       "JobRole                    1460      9         Sales Executive   325   \n",
       "JobSatisfaction          1460.0    NaN                     NaN   NaN   \n",
       "MonthlyRate              1460.0    NaN                     NaN   NaN   \n",
       "NumCompaniesWorked       1460.0    NaN                     NaN   NaN   \n",
       "OverTime                   1460      2                      No  1048   \n",
       "PercentSalaryHike        1460.0    NaN                     NaN   NaN   \n",
       "TotalWorkingYears        1460.0    NaN                     NaN   NaN   \n",
       "WorkLifeBalance          1460.0    NaN                     NaN   NaN   \n",
       "YearsAtCompany           1460.0    NaN                     NaN   NaN   \n",
       "YearsInCurrentRole       1460.0    NaN                     NaN   NaN   \n",
       "YearsSinceLastPromotion  1460.0    NaN                     NaN   NaN   \n",
       "YearsWithCurrManager     1460.0    NaN                     NaN   NaN   \n",
       "Attrition                  1460      2                      No  1225   \n",
       "\n",
       "                                   mean          std        min         25%  \\\n",
       "EmpID                    2102949.219178   422.080035  2102210.0  2102584.75   \n",
       "Age                           36.910959     9.126498       18.0        30.0   \n",
       "EducationField                      NaN          NaN        NaN         NaN   \n",
       "Gender                              NaN          NaN        NaN         NaN   \n",
       "MaritalStatus                       NaN          NaN        NaN         NaN   \n",
       "DistanceFromHome               9.172603     8.101841        1.0         2.0   \n",
       "BusinessTravel                      NaN          NaN        NaN         NaN   \n",
       "Department                          NaN          NaN        NaN         NaN   \n",
       "HourlyRate                    65.914384    20.316655       30.0        48.0   \n",
       "JobLevel                       2.065753     1.107544        1.0         1.0   \n",
       "JobRole                             NaN          NaN        NaN         NaN   \n",
       "JobSatisfaction                2.729452     1.103963        1.0         2.0   \n",
       "MonthlyRate                14299.465068  7123.418042     2094.0     8039.75   \n",
       "NumCompaniesWorked             2.696575     2.499154        0.0         1.0   \n",
       "OverTime                            NaN          NaN        NaN         NaN   \n",
       "PercentSalaryHike             15.218493     3.666092       11.0        12.0   \n",
       "TotalWorkingYears             11.286301     7.778828        0.0         6.0   \n",
       "WorkLifeBalance                2.762329     0.707605        1.0         2.0   \n",
       "YearsAtCompany                 7.028767      6.13939        0.0         3.0   \n",
       "YearsInCurrentRole             4.243836     3.628309        0.0         2.0   \n",
       "YearsSinceLastPromotion        2.197945     3.229596        0.0         0.0   \n",
       "YearsWithCurrManager           4.133562     3.573852        0.0         2.0   \n",
       "Attrition                           NaN          NaN        NaN         NaN   \n",
       "\n",
       "                               50%         75%        max  \n",
       "EmpID                    2102949.5  2103314.25  2103679.0  \n",
       "Age                           36.0        43.0       60.0  \n",
       "EducationField                 NaN         NaN        NaN  \n",
       "Gender                         NaN         NaN        NaN  \n",
       "MaritalStatus                  NaN         NaN        NaN  \n",
       "DistanceFromHome               7.0        14.0       29.0  \n",
       "BusinessTravel                 NaN         NaN        NaN  \n",
       "Department                     NaN         NaN        NaN  \n",
       "HourlyRate                    66.0        84.0      100.0  \n",
       "JobLevel                       2.0         3.0        5.0  \n",
       "JobRole                        NaN         NaN        NaN  \n",
       "JobSatisfaction                3.0         4.0        4.0  \n",
       "MonthlyRate                14225.5     20460.5    26999.0  \n",
       "NumCompaniesWorked             2.0         4.0        9.0  \n",
       "OverTime                       NaN         NaN        NaN  \n",
       "PercentSalaryHike             14.0        18.0       25.0  \n",
       "TotalWorkingYears             10.0        15.0       40.0  \n",
       "WorkLifeBalance                3.0         3.0        4.0  \n",
       "YearsAtCompany                 5.0        10.0       40.0  \n",
       "YearsInCurrentRole             3.0         7.0       18.0  \n",
       "YearsSinceLastPromotion        1.0         3.0       15.0  \n",
       "YearsWithCurrManager           3.0         7.0       17.0  \n",
       "Attrition                      NaN         NaN        NaN  "
      ]
     },
     "execution_count": 35,
     "metadata": {},
     "output_type": "execute_result"
    }
   ],
   "source": [
    "df.describe(include=\"all\").T"
   ]
  },
  {
   "cell_type": "markdown",
   "metadata": {
    "id": "BJBktqwjGa2t"
   },
   "source": [
    "11. Droping  the variable EmpID from the dataframe df."
   ]
  },
  {
   "cell_type": "code",
   "execution_count": 36,
   "metadata": {
    "id": "jdPdoynMGa2t"
   },
   "outputs": [],
   "source": [
    "df.drop(\"EmpID\",axis=1,inplace=True)"
   ]
  },
  {
   "cell_type": "code",
   "execution_count": 37,
   "metadata": {
    "id": "a1fAFpIUGa2u"
   },
   "outputs": [
    {
     "data": {
      "text/html": [
       "<div>\n",
       "<style scoped>\n",
       "    .dataframe tbody tr th:only-of-type {\n",
       "        vertical-align: middle;\n",
       "    }\n",
       "\n",
       "    .dataframe tbody tr th {\n",
       "        vertical-align: top;\n",
       "    }\n",
       "\n",
       "    .dataframe thead th {\n",
       "        text-align: right;\n",
       "    }\n",
       "</style>\n",
       "<table border=\"1\" class=\"dataframe\">\n",
       "  <thead>\n",
       "    <tr style=\"text-align: right;\">\n",
       "      <th></th>\n",
       "      <th>Age</th>\n",
       "      <th>EducationField</th>\n",
       "      <th>Gender</th>\n",
       "      <th>MaritalStatus</th>\n",
       "      <th>DistanceFromHome</th>\n",
       "      <th>BusinessTravel</th>\n",
       "      <th>Department</th>\n",
       "      <th>HourlyRate</th>\n",
       "      <th>JobLevel</th>\n",
       "      <th>JobRole</th>\n",
       "      <th>...</th>\n",
       "      <th>NumCompaniesWorked</th>\n",
       "      <th>OverTime</th>\n",
       "      <th>PercentSalaryHike</th>\n",
       "      <th>TotalWorkingYears</th>\n",
       "      <th>WorkLifeBalance</th>\n",
       "      <th>YearsAtCompany</th>\n",
       "      <th>YearsInCurrentRole</th>\n",
       "      <th>YearsSinceLastPromotion</th>\n",
       "      <th>YearsWithCurrManager</th>\n",
       "      <th>Attrition</th>\n",
       "    </tr>\n",
       "  </thead>\n",
       "  <tbody>\n",
       "    <tr>\n",
       "      <th>0</th>\n",
       "      <td>41</td>\n",
       "      <td>Life Sciences</td>\n",
       "      <td>Female</td>\n",
       "      <td>Single</td>\n",
       "      <td>1</td>\n",
       "      <td>Travel_Rarely</td>\n",
       "      <td>Sales</td>\n",
       "      <td>94</td>\n",
       "      <td>2.0</td>\n",
       "      <td>Sales Executive</td>\n",
       "      <td>...</td>\n",
       "      <td>8</td>\n",
       "      <td>Yes</td>\n",
       "      <td>11</td>\n",
       "      <td>8</td>\n",
       "      <td>1.0</td>\n",
       "      <td>6</td>\n",
       "      <td>4</td>\n",
       "      <td>0</td>\n",
       "      <td>5</td>\n",
       "      <td>Yes</td>\n",
       "    </tr>\n",
       "    <tr>\n",
       "      <th>1</th>\n",
       "      <td>49</td>\n",
       "      <td>Life Sciences</td>\n",
       "      <td>Male</td>\n",
       "      <td>Married</td>\n",
       "      <td>8</td>\n",
       "      <td>Travel_Frequently</td>\n",
       "      <td>Research &amp; Development</td>\n",
       "      <td>61</td>\n",
       "      <td>2.0</td>\n",
       "      <td>Research Scientist</td>\n",
       "      <td>...</td>\n",
       "      <td>1</td>\n",
       "      <td>No</td>\n",
       "      <td>23</td>\n",
       "      <td>10</td>\n",
       "      <td>3.0</td>\n",
       "      <td>10</td>\n",
       "      <td>7</td>\n",
       "      <td>1</td>\n",
       "      <td>7</td>\n",
       "      <td>No</td>\n",
       "    </tr>\n",
       "    <tr>\n",
       "      <th>2</th>\n",
       "      <td>37</td>\n",
       "      <td>Other</td>\n",
       "      <td>Male</td>\n",
       "      <td>Single</td>\n",
       "      <td>2</td>\n",
       "      <td>Travel_Rarely</td>\n",
       "      <td>Research &amp; Development</td>\n",
       "      <td>92</td>\n",
       "      <td>1.0</td>\n",
       "      <td>Laboratory Technician</td>\n",
       "      <td>...</td>\n",
       "      <td>6</td>\n",
       "      <td>Yes</td>\n",
       "      <td>15</td>\n",
       "      <td>7</td>\n",
       "      <td>3.0</td>\n",
       "      <td>0</td>\n",
       "      <td>0</td>\n",
       "      <td>0</td>\n",
       "      <td>0</td>\n",
       "      <td>Yes</td>\n",
       "    </tr>\n",
       "    <tr>\n",
       "      <th>3</th>\n",
       "      <td>33</td>\n",
       "      <td>Life Sciences</td>\n",
       "      <td>Female</td>\n",
       "      <td>Married</td>\n",
       "      <td>3</td>\n",
       "      <td>Travel_Frequently</td>\n",
       "      <td>Research &amp; Development</td>\n",
       "      <td>56</td>\n",
       "      <td>1.0</td>\n",
       "      <td>Research Scientist</td>\n",
       "      <td>...</td>\n",
       "      <td>1</td>\n",
       "      <td>Yes</td>\n",
       "      <td>11</td>\n",
       "      <td>8</td>\n",
       "      <td>3.0</td>\n",
       "      <td>8</td>\n",
       "      <td>7</td>\n",
       "      <td>3</td>\n",
       "      <td>0</td>\n",
       "      <td>No</td>\n",
       "    </tr>\n",
       "    <tr>\n",
       "      <th>4</th>\n",
       "      <td>27</td>\n",
       "      <td>Medical</td>\n",
       "      <td>Male</td>\n",
       "      <td>Married</td>\n",
       "      <td>2</td>\n",
       "      <td>Travel_Rarely</td>\n",
       "      <td>Research &amp; Development</td>\n",
       "      <td>40</td>\n",
       "      <td>1.0</td>\n",
       "      <td>Laboratory Technician</td>\n",
       "      <td>...</td>\n",
       "      <td>9</td>\n",
       "      <td>No</td>\n",
       "      <td>12</td>\n",
       "      <td>6</td>\n",
       "      <td>3.0</td>\n",
       "      <td>2</td>\n",
       "      <td>2</td>\n",
       "      <td>2</td>\n",
       "      <td>2</td>\n",
       "      <td>No</td>\n",
       "    </tr>\n",
       "  </tbody>\n",
       "</table>\n",
       "<p>5 rows × 22 columns</p>\n",
       "</div>"
      ],
      "text/plain": [
       "   Age EducationField  Gender MaritalStatus  DistanceFromHome  \\\n",
       "0   41  Life Sciences  Female        Single                 1   \n",
       "1   49  Life Sciences    Male       Married                 8   \n",
       "2   37          Other    Male        Single                 2   \n",
       "3   33  Life Sciences  Female       Married                 3   \n",
       "4   27        Medical    Male       Married                 2   \n",
       "\n",
       "      BusinessTravel              Department  HourlyRate  JobLevel  \\\n",
       "0      Travel_Rarely                   Sales          94       2.0   \n",
       "1  Travel_Frequently  Research & Development          61       2.0   \n",
       "2      Travel_Rarely  Research & Development          92       1.0   \n",
       "3  Travel_Frequently  Research & Development          56       1.0   \n",
       "4      Travel_Rarely  Research & Development          40       1.0   \n",
       "\n",
       "                 JobRole  ...  NumCompaniesWorked  OverTime  \\\n",
       "0        Sales Executive  ...                   8       Yes   \n",
       "1     Research Scientist  ...                   1        No   \n",
       "2  Laboratory Technician  ...                   6       Yes   \n",
       "3     Research Scientist  ...                   1       Yes   \n",
       "4  Laboratory Technician  ...                   9        No   \n",
       "\n",
       "   PercentSalaryHike TotalWorkingYears  WorkLifeBalance  YearsAtCompany  \\\n",
       "0                 11                 8              1.0               6   \n",
       "1                 23                10              3.0              10   \n",
       "2                 15                 7              3.0               0   \n",
       "3                 11                 8              3.0               8   \n",
       "4                 12                 6              3.0               2   \n",
       "\n",
       "   YearsInCurrentRole  YearsSinceLastPromotion  YearsWithCurrManager  \\\n",
       "0                   4                        0                     5   \n",
       "1                   7                        1                     7   \n",
       "2                   0                        0                     0   \n",
       "3                   7                        3                     0   \n",
       "4                   2                        2                     2   \n",
       "\n",
       "   Attrition  \n",
       "0        Yes  \n",
       "1         No  \n",
       "2        Yes  \n",
       "3         No  \n",
       "4         No  \n",
       "\n",
       "[5 rows x 22 columns]"
      ]
     },
     "execution_count": 37,
     "metadata": {},
     "output_type": "execute_result"
    }
   ],
   "source": [
    "df.head()"
   ]
  },
  {
   "cell_type": "markdown",
   "metadata": {
    "id": "V44sVExjGa2u"
   },
   "source": [
    "12. Checking how many employees left the company from the given dataset\n",
    "Hint :Use value_counts() function"
   ]
  },
  {
   "cell_type": "code",
   "execution_count": 40,
   "metadata": {
    "ExecuteTime": {
     "end_time": "2020-06-17T09:02:01.758220Z",
     "start_time": "2020-06-17T09:02:01.654480Z"
    },
    "id": "mhMrtR_OGa2v"
   },
   "outputs": [
    {
     "data": {
      "text/plain": [
       "No     1225\n",
       "Yes     235\n",
       "Name: Attrition, dtype: int64"
      ]
     },
     "execution_count": 40,
     "metadata": {},
     "output_type": "execute_result"
    }
   ],
   "source": [
    "df.Attrition.value_counts()"
   ]
  },
  {
   "cell_type": "code",
   "execution_count": 41,
   "metadata": {},
   "outputs": [
    {
     "data": {
      "text/plain": [
       "No     0.839041\n",
       "Yes    0.160959\n",
       "Name: Attrition, dtype: float64"
      ]
     },
     "execution_count": 41,
     "metadata": {},
     "output_type": "execute_result"
    }
   ],
   "source": [
    "df.Attrition.value_counts(normalize=True) #normalize=True gives the otput in ratio terms"
   ]
  },
  {
   "cell_type": "markdown",
   "metadata": {
    "id": "MSpCAOAGGa2v"
   },
   "source": []
  },
  {
   "cell_type": "markdown",
   "metadata": {
    "id": "_7tclhS1Ga2w"
   },
   "source": [
    "$\\alpha^2$"
   ]
  },
  {
   "cell_type": "markdown",
   "metadata": {
    "id": "US4AY9nRGa2x"
   },
   "source": []
  },
  {
   "cell_type": "markdown",
   "metadata": {
    "id": "1a8MNjT_Ga2x"
   },
   "source": [
    "13. Creating a subset \"df_new\" from the dataset \"df\" which contain data of all the employees who have attrited. Also checking the shape of the new dataset"
   ]
  },
  {
   "cell_type": "code",
   "execution_count": 43,
   "metadata": {
    "id": "4oN2nS1BGa2x"
   },
   "outputs": [
    {
     "data": {
      "text/html": [
       "<div>\n",
       "<style scoped>\n",
       "    .dataframe tbody tr th:only-of-type {\n",
       "        vertical-align: middle;\n",
       "    }\n",
       "\n",
       "    .dataframe tbody tr th {\n",
       "        vertical-align: top;\n",
       "    }\n",
       "\n",
       "    .dataframe thead th {\n",
       "        text-align: right;\n",
       "    }\n",
       "</style>\n",
       "<table border=\"1\" class=\"dataframe\">\n",
       "  <thead>\n",
       "    <tr style=\"text-align: right;\">\n",
       "      <th></th>\n",
       "      <th>Age</th>\n",
       "      <th>EducationField</th>\n",
       "      <th>Gender</th>\n",
       "      <th>MaritalStatus</th>\n",
       "      <th>DistanceFromHome</th>\n",
       "      <th>BusinessTravel</th>\n",
       "      <th>Department</th>\n",
       "      <th>HourlyRate</th>\n",
       "      <th>JobLevel</th>\n",
       "      <th>JobRole</th>\n",
       "      <th>...</th>\n",
       "      <th>NumCompaniesWorked</th>\n",
       "      <th>OverTime</th>\n",
       "      <th>PercentSalaryHike</th>\n",
       "      <th>TotalWorkingYears</th>\n",
       "      <th>WorkLifeBalance</th>\n",
       "      <th>YearsAtCompany</th>\n",
       "      <th>YearsInCurrentRole</th>\n",
       "      <th>YearsSinceLastPromotion</th>\n",
       "      <th>YearsWithCurrManager</th>\n",
       "      <th>Attrition</th>\n",
       "    </tr>\n",
       "  </thead>\n",
       "  <tbody>\n",
       "    <tr>\n",
       "      <th>0</th>\n",
       "      <td>41</td>\n",
       "      <td>Life Sciences</td>\n",
       "      <td>Female</td>\n",
       "      <td>Single</td>\n",
       "      <td>1</td>\n",
       "      <td>Travel_Rarely</td>\n",
       "      <td>Sales</td>\n",
       "      <td>94</td>\n",
       "      <td>2.0</td>\n",
       "      <td>Sales Executive</td>\n",
       "      <td>...</td>\n",
       "      <td>8</td>\n",
       "      <td>Yes</td>\n",
       "      <td>11</td>\n",
       "      <td>8</td>\n",
       "      <td>1.0</td>\n",
       "      <td>6</td>\n",
       "      <td>4</td>\n",
       "      <td>0</td>\n",
       "      <td>5</td>\n",
       "      <td>Yes</td>\n",
       "    </tr>\n",
       "    <tr>\n",
       "      <th>2</th>\n",
       "      <td>37</td>\n",
       "      <td>Other</td>\n",
       "      <td>Male</td>\n",
       "      <td>Single</td>\n",
       "      <td>2</td>\n",
       "      <td>Travel_Rarely</td>\n",
       "      <td>Research &amp; Development</td>\n",
       "      <td>92</td>\n",
       "      <td>1.0</td>\n",
       "      <td>Laboratory Technician</td>\n",
       "      <td>...</td>\n",
       "      <td>6</td>\n",
       "      <td>Yes</td>\n",
       "      <td>15</td>\n",
       "      <td>7</td>\n",
       "      <td>3.0</td>\n",
       "      <td>0</td>\n",
       "      <td>0</td>\n",
       "      <td>0</td>\n",
       "      <td>0</td>\n",
       "      <td>Yes</td>\n",
       "    </tr>\n",
       "    <tr>\n",
       "      <th>21</th>\n",
       "      <td>36</td>\n",
       "      <td>Life Sciences</td>\n",
       "      <td>Male</td>\n",
       "      <td>Single</td>\n",
       "      <td>9</td>\n",
       "      <td>Travel_Rarely</td>\n",
       "      <td>Sales</td>\n",
       "      <td>82</td>\n",
       "      <td>1.0</td>\n",
       "      <td>Sales Representative</td>\n",
       "      <td>...</td>\n",
       "      <td>7</td>\n",
       "      <td>No</td>\n",
       "      <td>23</td>\n",
       "      <td>10</td>\n",
       "      <td>3.0</td>\n",
       "      <td>5</td>\n",
       "      <td>3</td>\n",
       "      <td>0</td>\n",
       "      <td>3</td>\n",
       "      <td>Yes</td>\n",
       "    </tr>\n",
       "    <tr>\n",
       "      <th>24</th>\n",
       "      <td>34</td>\n",
       "      <td>Medical</td>\n",
       "      <td>Male</td>\n",
       "      <td>Single</td>\n",
       "      <td>6</td>\n",
       "      <td>Travel_Rarely</td>\n",
       "      <td>Research &amp; Development</td>\n",
       "      <td>83</td>\n",
       "      <td>1.0</td>\n",
       "      <td>Research Scientist</td>\n",
       "      <td>...</td>\n",
       "      <td>2</td>\n",
       "      <td>No</td>\n",
       "      <td>11</td>\n",
       "      <td>8</td>\n",
       "      <td>3.0</td>\n",
       "      <td>4</td>\n",
       "      <td>2</td>\n",
       "      <td>1</td>\n",
       "      <td>3</td>\n",
       "      <td>Yes</td>\n",
       "    </tr>\n",
       "    <tr>\n",
       "      <th>26</th>\n",
       "      <td>32</td>\n",
       "      <td>Life Sciences</td>\n",
       "      <td>Female</td>\n",
       "      <td>Single</td>\n",
       "      <td>16</td>\n",
       "      <td>Travel_Frequently</td>\n",
       "      <td>Research &amp; Development</td>\n",
       "      <td>72</td>\n",
       "      <td>1.0</td>\n",
       "      <td>Research Scientist</td>\n",
       "      <td>...</td>\n",
       "      <td>1</td>\n",
       "      <td>Yes</td>\n",
       "      <td>22</td>\n",
       "      <td>10</td>\n",
       "      <td>3.0</td>\n",
       "      <td>10</td>\n",
       "      <td>2</td>\n",
       "      <td>6</td>\n",
       "      <td>7</td>\n",
       "      <td>Yes</td>\n",
       "    </tr>\n",
       "  </tbody>\n",
       "</table>\n",
       "<p>5 rows × 22 columns</p>\n",
       "</div>"
      ],
      "text/plain": [
       "    Age EducationField  Gender MaritalStatus  DistanceFromHome  \\\n",
       "0    41  Life Sciences  Female        Single                 1   \n",
       "2    37          Other    Male        Single                 2   \n",
       "21   36  Life Sciences    Male        Single                 9   \n",
       "24   34        Medical    Male        Single                 6   \n",
       "26   32  Life Sciences  Female        Single                16   \n",
       "\n",
       "       BusinessTravel              Department  HourlyRate  JobLevel  \\\n",
       "0       Travel_Rarely                   Sales          94       2.0   \n",
       "2       Travel_Rarely  Research & Development          92       1.0   \n",
       "21      Travel_Rarely                   Sales          82       1.0   \n",
       "24      Travel_Rarely  Research & Development          83       1.0   \n",
       "26  Travel_Frequently  Research & Development          72       1.0   \n",
       "\n",
       "                  JobRole  ...  NumCompaniesWorked  OverTime  \\\n",
       "0         Sales Executive  ...                   8       Yes   \n",
       "2   Laboratory Technician  ...                   6       Yes   \n",
       "21   Sales Representative  ...                   7        No   \n",
       "24     Research Scientist  ...                   2        No   \n",
       "26     Research Scientist  ...                   1       Yes   \n",
       "\n",
       "    PercentSalaryHike TotalWorkingYears  WorkLifeBalance  YearsAtCompany  \\\n",
       "0                  11                 8              1.0               6   \n",
       "2                  15                 7              3.0               0   \n",
       "21                 23                10              3.0               5   \n",
       "24                 11                 8              3.0               4   \n",
       "26                 22                10              3.0              10   \n",
       "\n",
       "    YearsInCurrentRole  YearsSinceLastPromotion  YearsWithCurrManager  \\\n",
       "0                    4                        0                     5   \n",
       "2                    0                        0                     0   \n",
       "21                   3                        0                     3   \n",
       "24                   2                        1                     3   \n",
       "26                   2                        6                     7   \n",
       "\n",
       "    Attrition  \n",
       "0         Yes  \n",
       "2         Yes  \n",
       "21        Yes  \n",
       "24        Yes  \n",
       "26        Yes  \n",
       "\n",
       "[5 rows x 22 columns]"
      ]
     },
     "execution_count": 43,
     "metadata": {},
     "output_type": "execute_result"
    }
   ],
   "source": [
    "df_new= df[df[\"Attrition\"]==\"Yes\"]\n",
    "df_new.head()"
   ]
  },
  {
   "cell_type": "code",
   "execution_count": 46,
   "metadata": {
    "id": "oyR05ZrIGa2y"
   },
   "outputs": [
    {
     "data": {
      "text/plain": [
       "(235, 22)"
      ]
     },
     "execution_count": 46,
     "metadata": {},
     "output_type": "execute_result"
    }
   ],
   "source": [
    "df_new.shape"
   ]
  },
  {
   "cell_type": "markdown",
   "metadata": {
    "id": "A4tgYLteGa2y"
   },
   "source": [
    "14. Create the top 5 rows and first 5 columns in a matrix format. Using\n",
    "\n",
    "---\n",
    "\n",
    "dataframe \"df\""
   ]
  },
  {
   "cell_type": "code",
   "execution_count": 47,
   "metadata": {
    "id": "6wT6Z9u4Ga2y"
   },
   "outputs": [
    {
     "data": {
      "text/html": [
       "<div>\n",
       "<style scoped>\n",
       "    .dataframe tbody tr th:only-of-type {\n",
       "        vertical-align: middle;\n",
       "    }\n",
       "\n",
       "    .dataframe tbody tr th {\n",
       "        vertical-align: top;\n",
       "    }\n",
       "\n",
       "    .dataframe thead th {\n",
       "        text-align: right;\n",
       "    }\n",
       "</style>\n",
       "<table border=\"1\" class=\"dataframe\">\n",
       "  <thead>\n",
       "    <tr style=\"text-align: right;\">\n",
       "      <th></th>\n",
       "      <th>Age</th>\n",
       "      <th>EducationField</th>\n",
       "      <th>Gender</th>\n",
       "      <th>MaritalStatus</th>\n",
       "      <th>DistanceFromHome</th>\n",
       "    </tr>\n",
       "  </thead>\n",
       "  <tbody>\n",
       "    <tr>\n",
       "      <th>0</th>\n",
       "      <td>41</td>\n",
       "      <td>Life Sciences</td>\n",
       "      <td>Female</td>\n",
       "      <td>Single</td>\n",
       "      <td>1</td>\n",
       "    </tr>\n",
       "    <tr>\n",
       "      <th>1</th>\n",
       "      <td>49</td>\n",
       "      <td>Life Sciences</td>\n",
       "      <td>Male</td>\n",
       "      <td>Married</td>\n",
       "      <td>8</td>\n",
       "    </tr>\n",
       "    <tr>\n",
       "      <th>2</th>\n",
       "      <td>37</td>\n",
       "      <td>Other</td>\n",
       "      <td>Male</td>\n",
       "      <td>Single</td>\n",
       "      <td>2</td>\n",
       "    </tr>\n",
       "    <tr>\n",
       "      <th>3</th>\n",
       "      <td>33</td>\n",
       "      <td>Life Sciences</td>\n",
       "      <td>Female</td>\n",
       "      <td>Married</td>\n",
       "      <td>3</td>\n",
       "    </tr>\n",
       "    <tr>\n",
       "      <th>4</th>\n",
       "      <td>27</td>\n",
       "      <td>Medical</td>\n",
       "      <td>Male</td>\n",
       "      <td>Married</td>\n",
       "      <td>2</td>\n",
       "    </tr>\n",
       "  </tbody>\n",
       "</table>\n",
       "</div>"
      ],
      "text/plain": [
       "   Age EducationField  Gender MaritalStatus  DistanceFromHome\n",
       "0   41  Life Sciences  Female        Single                 1\n",
       "1   49  Life Sciences    Male       Married                 8\n",
       "2   37          Other    Male        Single                 2\n",
       "3   33  Life Sciences  Female       Married                 3\n",
       "4   27        Medical    Male       Married                 2"
      ]
     },
     "execution_count": 47,
     "metadata": {},
     "output_type": "execute_result"
    }
   ],
   "source": [
    "df.iloc[0:5,0:5]"
   ]
  },
  {
   "cell_type": "markdown",
   "metadata": {
    "id": "KQ_B85mnGa2z"
   },
   "source": [
    "15.  Analyzing the mean for all the variables for employees who have attrited and those who have not."
   ]
  },
  {
   "cell_type": "code",
   "execution_count": 48,
   "metadata": {
    "id": "jYtXdlDhGa2z"
   },
   "outputs": [
    {
     "name": "stderr",
     "output_type": "stream",
     "text": [
      "C:\\Users\\shiva\\AppData\\Local\\Temp\\ipykernel_1372\\2131009968.py:1: FutureWarning: The default value of numeric_only in DataFrameGroupBy.mean is deprecated. In a future version, numeric_only will default to False. Either specify numeric_only or select only columns which should be valid for the function.\n",
      "  df.groupby(\"Attrition\").mean()\n"
     ]
    },
    {
     "data": {
      "text/html": [
       "<div>\n",
       "<style scoped>\n",
       "    .dataframe tbody tr th:only-of-type {\n",
       "        vertical-align: middle;\n",
       "    }\n",
       "\n",
       "    .dataframe tbody tr th {\n",
       "        vertical-align: top;\n",
       "    }\n",
       "\n",
       "    .dataframe thead th {\n",
       "        text-align: right;\n",
       "    }\n",
       "</style>\n",
       "<table border=\"1\" class=\"dataframe\">\n",
       "  <thead>\n",
       "    <tr style=\"text-align: right;\">\n",
       "      <th></th>\n",
       "      <th>Age</th>\n",
       "      <th>DistanceFromHome</th>\n",
       "      <th>HourlyRate</th>\n",
       "      <th>JobLevel</th>\n",
       "      <th>JobSatisfaction</th>\n",
       "      <th>MonthlyRate</th>\n",
       "      <th>NumCompaniesWorked</th>\n",
       "      <th>PercentSalaryHike</th>\n",
       "      <th>TotalWorkingYears</th>\n",
       "      <th>WorkLifeBalance</th>\n",
       "      <th>YearsAtCompany</th>\n",
       "      <th>YearsInCurrentRole</th>\n",
       "      <th>YearsSinceLastPromotion</th>\n",
       "      <th>YearsWithCurrManager</th>\n",
       "    </tr>\n",
       "    <tr>\n",
       "      <th>Attrition</th>\n",
       "      <th></th>\n",
       "      <th></th>\n",
       "      <th></th>\n",
       "      <th></th>\n",
       "      <th></th>\n",
       "      <th></th>\n",
       "      <th></th>\n",
       "      <th></th>\n",
       "      <th></th>\n",
       "      <th></th>\n",
       "      <th></th>\n",
       "      <th></th>\n",
       "      <th></th>\n",
       "      <th></th>\n",
       "    </tr>\n",
       "  </thead>\n",
       "  <tbody>\n",
       "    <tr>\n",
       "      <th>No</th>\n",
       "      <td>37.542041</td>\n",
       "      <td>8.902041</td>\n",
       "      <td>65.977959</td>\n",
       "      <td>2.146939</td>\n",
       "      <td>2.780408</td>\n",
       "      <td>14254.193469</td>\n",
       "      <td>2.648980</td>\n",
       "      <td>15.242449</td>\n",
       "      <td>11.862857</td>\n",
       "      <td>2.782041</td>\n",
       "      <td>7.388571</td>\n",
       "      <td>4.497959</td>\n",
       "      <td>2.243265</td>\n",
       "      <td>4.377143</td>\n",
       "    </tr>\n",
       "    <tr>\n",
       "      <th>Yes</th>\n",
       "      <td>33.621277</td>\n",
       "      <td>10.582979</td>\n",
       "      <td>65.582979</td>\n",
       "      <td>1.642553</td>\n",
       "      <td>2.463830</td>\n",
       "      <td>14535.455319</td>\n",
       "      <td>2.944681</td>\n",
       "      <td>15.093617</td>\n",
       "      <td>8.280851</td>\n",
       "      <td>2.659574</td>\n",
       "      <td>5.153191</td>\n",
       "      <td>2.919149</td>\n",
       "      <td>1.961702</td>\n",
       "      <td>2.863830</td>\n",
       "    </tr>\n",
       "  </tbody>\n",
       "</table>\n",
       "</div>"
      ],
      "text/plain": [
       "                 Age  DistanceFromHome  HourlyRate  JobLevel  JobSatisfaction  \\\n",
       "Attrition                                                                       \n",
       "No         37.542041          8.902041   65.977959  2.146939         2.780408   \n",
       "Yes        33.621277         10.582979   65.582979  1.642553         2.463830   \n",
       "\n",
       "            MonthlyRate  NumCompaniesWorked  PercentSalaryHike  \\\n",
       "Attrition                                                        \n",
       "No         14254.193469            2.648980          15.242449   \n",
       "Yes        14535.455319            2.944681          15.093617   \n",
       "\n",
       "           TotalWorkingYears  WorkLifeBalance  YearsAtCompany  \\\n",
       "Attrition                                                       \n",
       "No                 11.862857         2.782041        7.388571   \n",
       "Yes                 8.280851         2.659574        5.153191   \n",
       "\n",
       "           YearsInCurrentRole  YearsSinceLastPromotion  YearsWithCurrManager  \n",
       "Attrition                                                                     \n",
       "No                   4.497959                 2.243265              4.377143  \n",
       "Yes                  2.919149                 1.961702              2.863830  "
      ]
     },
     "execution_count": 48,
     "metadata": {},
     "output_type": "execute_result"
    }
   ],
   "source": [
    "df.groupby(\"Attrition\").mean()"
   ]
  },
  {
   "cell_type": "markdown",
   "metadata": {
    "id": "hx014KOKGa2z"
   },
   "source": [
    "16. Checking the details of 5 employees who have spent maximum years in the company "
   ]
  },
  {
   "cell_type": "code",
   "execution_count": 49,
   "metadata": {
    "id": "gkGmeAw2Ga20"
   },
   "outputs": [
    {
     "data": {
      "text/html": [
       "<div>\n",
       "<style scoped>\n",
       "    .dataframe tbody tr th:only-of-type {\n",
       "        vertical-align: middle;\n",
       "    }\n",
       "\n",
       "    .dataframe tbody tr th {\n",
       "        vertical-align: top;\n",
       "    }\n",
       "\n",
       "    .dataframe thead th {\n",
       "        text-align: right;\n",
       "    }\n",
       "</style>\n",
       "<table border=\"1\" class=\"dataframe\">\n",
       "  <thead>\n",
       "    <tr style=\"text-align: right;\">\n",
       "      <th></th>\n",
       "      <th>Age</th>\n",
       "      <th>EducationField</th>\n",
       "      <th>Gender</th>\n",
       "      <th>MaritalStatus</th>\n",
       "      <th>DistanceFromHome</th>\n",
       "      <th>BusinessTravel</th>\n",
       "      <th>Department</th>\n",
       "      <th>HourlyRate</th>\n",
       "      <th>JobLevel</th>\n",
       "      <th>JobRole</th>\n",
       "      <th>...</th>\n",
       "      <th>NumCompaniesWorked</th>\n",
       "      <th>OverTime</th>\n",
       "      <th>PercentSalaryHike</th>\n",
       "      <th>TotalWorkingYears</th>\n",
       "      <th>WorkLifeBalance</th>\n",
       "      <th>YearsAtCompany</th>\n",
       "      <th>YearsInCurrentRole</th>\n",
       "      <th>YearsSinceLastPromotion</th>\n",
       "      <th>YearsWithCurrManager</th>\n",
       "      <th>Attrition</th>\n",
       "    </tr>\n",
       "  </thead>\n",
       "  <tbody>\n",
       "    <tr>\n",
       "      <th>126</th>\n",
       "      <td>58</td>\n",
       "      <td>Medical</td>\n",
       "      <td>Female</td>\n",
       "      <td>Married</td>\n",
       "      <td>23</td>\n",
       "      <td>Travel_Rarely</td>\n",
       "      <td>Research &amp; Development</td>\n",
       "      <td>94</td>\n",
       "      <td>3.0</td>\n",
       "      <td>Healthcare Representative</td>\n",
       "      <td>...</td>\n",
       "      <td>1</td>\n",
       "      <td>No</td>\n",
       "      <td>12</td>\n",
       "      <td>40</td>\n",
       "      <td>2.0</td>\n",
       "      <td>40</td>\n",
       "      <td>10</td>\n",
       "      <td>15</td>\n",
       "      <td>6</td>\n",
       "      <td>Yes</td>\n",
       "    </tr>\n",
       "    <tr>\n",
       "      <th>98</th>\n",
       "      <td>58</td>\n",
       "      <td>Medical</td>\n",
       "      <td>Male</td>\n",
       "      <td>Single</td>\n",
       "      <td>10</td>\n",
       "      <td>Travel_Rarely</td>\n",
       "      <td>Sales</td>\n",
       "      <td>37</td>\n",
       "      <td>4.0</td>\n",
       "      <td>Sales Executive</td>\n",
       "      <td>...</td>\n",
       "      <td>0</td>\n",
       "      <td>No</td>\n",
       "      <td>13</td>\n",
       "      <td>38</td>\n",
       "      <td>2.0</td>\n",
       "      <td>37</td>\n",
       "      <td>10</td>\n",
       "      <td>1</td>\n",
       "      <td>8</td>\n",
       "      <td>No</td>\n",
       "    </tr>\n",
       "    <tr>\n",
       "      <th>1116</th>\n",
       "      <td>55</td>\n",
       "      <td>Marketing</td>\n",
       "      <td>Male</td>\n",
       "      <td>Married</td>\n",
       "      <td>26</td>\n",
       "      <td>Travel_Rarely</td>\n",
       "      <td>Sales</td>\n",
       "      <td>60</td>\n",
       "      <td>5.0</td>\n",
       "      <td>Manager</td>\n",
       "      <td>...</td>\n",
       "      <td>1</td>\n",
       "      <td>No</td>\n",
       "      <td>21</td>\n",
       "      <td>36</td>\n",
       "      <td>3.0</td>\n",
       "      <td>36</td>\n",
       "      <td>6</td>\n",
       "      <td>2</td>\n",
       "      <td>13</td>\n",
       "      <td>No</td>\n",
       "    </tr>\n",
       "    <tr>\n",
       "      <th>270</th>\n",
       "      <td>55</td>\n",
       "      <td>Medical</td>\n",
       "      <td>Male</td>\n",
       "      <td>Single</td>\n",
       "      <td>1</td>\n",
       "      <td>Travel_Rarely</td>\n",
       "      <td>Research &amp; Development</td>\n",
       "      <td>81</td>\n",
       "      <td>5.0</td>\n",
       "      <td>Manager</td>\n",
       "      <td>...</td>\n",
       "      <td>0</td>\n",
       "      <td>Yes</td>\n",
       "      <td>14</td>\n",
       "      <td>37</td>\n",
       "      <td>3.0</td>\n",
       "      <td>36</td>\n",
       "      <td>10</td>\n",
       "      <td>4</td>\n",
       "      <td>13</td>\n",
       "      <td>No</td>\n",
       "    </tr>\n",
       "    <tr>\n",
       "      <th>561</th>\n",
       "      <td>52</td>\n",
       "      <td>Marketing</td>\n",
       "      <td>Male</td>\n",
       "      <td>Married</td>\n",
       "      <td>3</td>\n",
       "      <td>Travel_Rarely</td>\n",
       "      <td>Sales</td>\n",
       "      <td>31</td>\n",
       "      <td>4.0</td>\n",
       "      <td>Manager</td>\n",
       "      <td>...</td>\n",
       "      <td>1</td>\n",
       "      <td>No</td>\n",
       "      <td>11</td>\n",
       "      <td>34</td>\n",
       "      <td>4.0</td>\n",
       "      <td>34</td>\n",
       "      <td>6</td>\n",
       "      <td>1</td>\n",
       "      <td>16</td>\n",
       "      <td>No</td>\n",
       "    </tr>\n",
       "  </tbody>\n",
       "</table>\n",
       "<p>5 rows × 22 columns</p>\n",
       "</div>"
      ],
      "text/plain": [
       "      Age EducationField  Gender MaritalStatus  DistanceFromHome  \\\n",
       "126    58        Medical  Female       Married                23   \n",
       "98     58        Medical    Male        Single                10   \n",
       "1116   55      Marketing    Male       Married                26   \n",
       "270    55        Medical    Male        Single                 1   \n",
       "561    52      Marketing    Male       Married                 3   \n",
       "\n",
       "     BusinessTravel              Department  HourlyRate  JobLevel  \\\n",
       "126   Travel_Rarely  Research & Development          94       3.0   \n",
       "98    Travel_Rarely                   Sales          37       4.0   \n",
       "1116  Travel_Rarely                   Sales          60       5.0   \n",
       "270   Travel_Rarely  Research & Development          81       5.0   \n",
       "561   Travel_Rarely                   Sales          31       4.0   \n",
       "\n",
       "                        JobRole  ...  NumCompaniesWorked  OverTime  \\\n",
       "126   Healthcare Representative  ...                   1        No   \n",
       "98              Sales Executive  ...                   0        No   \n",
       "1116                    Manager  ...                   1        No   \n",
       "270                     Manager  ...                   0       Yes   \n",
       "561                     Manager  ...                   1        No   \n",
       "\n",
       "      PercentSalaryHike TotalWorkingYears  WorkLifeBalance  YearsAtCompany  \\\n",
       "126                  12                40              2.0              40   \n",
       "98                   13                38              2.0              37   \n",
       "1116                 21                36              3.0              36   \n",
       "270                  14                37              3.0              36   \n",
       "561                  11                34              4.0              34   \n",
       "\n",
       "      YearsInCurrentRole  YearsSinceLastPromotion  YearsWithCurrManager  \\\n",
       "126                   10                       15                     6   \n",
       "98                    10                        1                     8   \n",
       "1116                   6                        2                    13   \n",
       "270                   10                        4                    13   \n",
       "561                    6                        1                    16   \n",
       "\n",
       "      Attrition  \n",
       "126         Yes  \n",
       "98           No  \n",
       "1116         No  \n",
       "270          No  \n",
       "561          No  \n",
       "\n",
       "[5 rows x 22 columns]"
      ]
     },
     "execution_count": 49,
     "metadata": {},
     "output_type": "execute_result"
    }
   ],
   "source": [
    "df.sort_values(\"YearsAtCompany\",ascending=False).head(5)"
   ]
  },
  {
   "cell_type": "markdown",
   "metadata": {
    "id": "3GY-VuOoGa20"
   },
   "source": [
    "17.  Finding out the minimum \"Percentage Salary Hike\" the company has offered.\n"
   ]
  },
  {
   "cell_type": "code",
   "execution_count": 51,
   "metadata": {
    "id": "hLlac1cRGa20"
   },
   "outputs": [
    {
     "data": {
      "text/plain": [
       "11"
      ]
     },
     "execution_count": 51,
     "metadata": {},
     "output_type": "execute_result"
    }
   ],
   "source": [
    "df.PercentSalaryHike.min()"
   ]
  },
  {
   "cell_type": "markdown",
   "metadata": {
    "id": "DXre40jOGa21"
   },
   "source": [
    "18. The maximum Total Working Years of an employee."
   ]
  },
  {
   "cell_type": "code",
   "execution_count": 52,
   "metadata": {
    "id": "nRidKmZkGa21"
   },
   "outputs": [
    {
     "data": {
      "text/plain": [
       "40"
      ]
     },
     "execution_count": 52,
     "metadata": {},
     "output_type": "execute_result"
    }
   ],
   "source": [
    "df.TotalWorkingYears.max()"
   ]
  },
  {
   "cell_type": "markdown",
   "metadata": {
    "id": "POPc6BMrGa21"
   },
   "source": [
    "19. The percentage of employees stay in the company given they have spend more than 7 years with the current manager."
   ]
  },
  {
   "cell_type": "code",
   "execution_count": 54,
   "metadata": {
    "id": "MoiQPvVCGa22"
   },
   "outputs": [
    {
     "data": {
      "text/plain": [
       "No     0.918519\n",
       "Yes    0.081481\n",
       "Name: Attrition, dtype: float64"
      ]
     },
     "execution_count": 54,
     "metadata": {},
     "output_type": "execute_result"
    }
   ],
   "source": [
    "df[df[\"YearsWithCurrManager\"]>7][\"Attrition\"].value_counts(normalize=True)"
   ]
  },
  {
   "cell_type": "markdown",
   "metadata": {
    "id": "nFTDsTrdGa22"
   },
   "source": [
    "20.  Percentage of employees lives >10 miles from the company."
   ]
  },
  {
   "cell_type": "code",
   "execution_count": 55,
   "metadata": {
    "id": "i_3Fjle_Ga22"
   },
   "outputs": [
    {
     "data": {
      "text/plain": [
       "30.068493150684933"
      ]
     },
     "execution_count": 55,
     "metadata": {},
     "output_type": "execute_result"
    }
   ],
   "source": [
    "df[df[\"DistanceFromHome\"]>10][\"DistanceFromHome\"].count()/df.shape[0]*100"
   ]
  },
  {
   "cell_type": "markdown",
   "metadata": {
    "id": "Y6Q9bL3kGa23"
   },
   "source": [
    "21. Creating a copy of the dataset , removing the \"Attrition\" variable from the new dataset and checking the shape of the dataset"
   ]
  },
  {
   "cell_type": "code",
   "execution_count": 56,
   "metadata": {
    "id": "c8_VgScIGa24"
   },
   "outputs": [],
   "source": [
    "df_copy=df.copy()"
   ]
  },
  {
   "cell_type": "code",
   "execution_count": null,
   "metadata": {},
   "outputs": [],
   "source": [
    "df_copy.drop(\"Attrition\",axis=1,inplace=True)"
   ]
  },
  {
   "cell_type": "code",
   "execution_count": 61,
   "metadata": {},
   "outputs": [
    {
     "data": {
      "text/plain": [
       "(1460, 21)"
      ]
     },
     "execution_count": 61,
     "metadata": {},
     "output_type": "execute_result"
    }
   ],
   "source": [
    "df_copy.shape"
   ]
  },
  {
   "cell_type": "markdown",
   "metadata": {
    "id": "5EqWlcueGa25"
   },
   "source": [
    "# END"
   ]
  }
 ],
 "metadata": {
  "colab": {
   "collapsed_sections": [
    "PyUGSO35Ga2n",
    "2ndE3NFlGa2o",
    "NI6WQHHYGa2q",
    "MRa5v7BCGa2r",
    "ywWkFv0vGa2s",
    "lO7D0-coGa2s",
    "BJBktqwjGa2t",
    "V44sVExjGa2u",
    "1a8MNjT_Ga2x",
    "KQ_B85mnGa2z",
    "hx014KOKGa2z",
    "3GY-VuOoGa20",
    "DXre40jOGa21",
    "POPc6BMrGa21",
    "nFTDsTrdGa22",
    "Y6Q9bL3kGa23"
   ],
   "name": "Questions_HR Attrition.ipynb",
   "provenance": []
  },
  "kernelspec": {
   "display_name": "Python 3 (ipykernel)",
   "language": "python",
   "name": "python3"
  },
  "language_info": {
   "codemirror_mode": {
    "name": "ipython",
    "version": 3
   },
   "file_extension": ".py",
   "mimetype": "text/x-python",
   "name": "python",
   "nbconvert_exporter": "python",
   "pygments_lexer": "ipython3",
   "version": "3.10.9"
  },
  "toc": {
   "base_numbering": 1,
   "nav_menu": {},
   "number_sections": true,
   "sideBar": true,
   "skip_h1_title": false,
   "title_cell": "Table of Contents",
   "title_sidebar": "Contents",
   "toc_cell": false,
   "toc_position": {},
   "toc_section_display": true,
   "toc_window_display": false
  },
  "varInspector": {
   "cols": {
    "lenName": 16,
    "lenType": 16,
    "lenVar": 40
   },
   "kernels_config": {
    "python": {
     "delete_cmd_postfix": "",
     "delete_cmd_prefix": "del ",
     "library": "var_list.py",
     "varRefreshCmd": "print(var_dic_list())"
    },
    "r": {
     "delete_cmd_postfix": ") ",
     "delete_cmd_prefix": "rm(",
     "library": "var_list.r",
     "varRefreshCmd": "cat(var_dic_list()) "
    }
   },
   "types_to_exclude": [
    "module",
    "function",
    "builtin_function_or_method",
    "instance",
    "_Feature"
   ],
   "window_display": false
  }
 },
 "nbformat": 4,
 "nbformat_minor": 1
}
